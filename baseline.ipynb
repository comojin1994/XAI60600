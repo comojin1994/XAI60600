{
 "cells": [
  {
   "cell_type": "markdown",
   "id": "394cc022",
   "metadata": {},
   "source": [
    "# Import libraries"
   ]
  },
  {
   "cell_type": "code",
   "execution_count": null,
   "id": "3472c234",
   "metadata": {},
   "outputs": [],
   "source": [
    "import os, random\n",
    "import pandas as pd\n",
    "import numpy as np\n",
    "import torch\n",
    "from easydict import EasyDict\n",
    "from mne.decoding import CSP\n",
    "from sklearn import preprocessing\n",
    "from sklearn.metrics import accuracy_score\n",
    "from sklearn.discriminant_analysis import LinearDiscriminantAnalysis\n",
    "\n",
    "from dataloader import BCICompet2aIV"
   ]
  },
  {
   "cell_type": "markdown",
   "id": "366aac35",
   "metadata": {},
   "source": [
    "# Configs"
   ]
  },
  {
   "cell_type": "code",
   "execution_count": null,
   "id": "49aec76c",
   "metadata": {},
   "outputs": [],
   "source": [
    "args = EasyDict({\n",
    "    'BASE_PATH': './data/BCI_Competition_IV/BCI_Competition_IV_2a',\n",
    "    'SEED': 42,\n",
    "    \n",
    "    'num_subjects': 9,\n",
    "    'EPOCHS': 100,\n",
    "    'lr': 1e-3\n",
    "})"
   ]
  },
  {
   "cell_type": "markdown",
   "id": "9312b7e3",
   "metadata": {},
   "source": [
    "# Set seed"
   ]
  },
  {
   "cell_type": "code",
   "execution_count": null,
   "id": "89a81c11",
   "metadata": {},
   "outputs": [],
   "source": [
    "def seed_everything(seed: int):\n",
    "    random.seed(seed)\n",
    "    os.environ['PYTHONHASHSEED'] = str(seed)\n",
    "    np.random.seed(seed)\n",
    "    torch.manual_seed(seed)\n",
    "    if torch.cuda.is_available():\n",
    "        torch.cuda.manual_seed(seed)\n",
    "        torch.cuda.manual_seed_all(seed)\n",
    "    torch.backends.cudnn.deterministic = True\n",
    "    torch.backends.cudnn.benchmark = True\n",
    "    torch.backends.cudnn.fastest = True\n",
    "    \n",
    "seed_everything(args.SEED)"
   ]
  },
  {
   "cell_type": "markdown",
   "id": "caffadcb",
   "metadata": {},
   "source": [
    "# Training"
   ]
  },
  {
   "cell_type": "code",
   "execution_count": null,
   "id": "a9ce5a7a",
   "metadata": {},
   "outputs": [],
   "source": [
    "acc = []\n",
    "test_preds = []\n",
    "\n",
    "for target_subject in range(args.num_subjects):\n",
    "    print('='*30)\n",
    "    print(f'LOG >>> Target subject: {target_subject}')\n",
    "    print('='*30)\n",
    "    \n",
    "    train_dataset = BCICompet2aIV(base_path=args.BASE_PATH,\n",
    "                                  target_subject=target_subject,\n",
    "                                  is_subject_independent=True,\n",
    "                                  is_val=False)\n",
    "    val_dataset = BCICompet2aIV(base_path=args.BASE_PATH,\n",
    "                                target_subject=target_subject, \n",
    "                                is_subject_independent=True, \n",
    "                                is_val=True)\n",
    "    test_dataset = BCICompet2aIV(base_path=args.BASE_PATH,\n",
    "                                 target_subject=target_subject,\n",
    "                                 is_subject_independent=True,\n",
    "                                 is_test=True)\n",
    "    \n",
    "    ### Change csp&lda to neural net based model ###\n",
    "    X_train, y_train = train_dataset.data, train_dataset.label\n",
    "    X_val, y_val = val_dataset.data, val_dataset.label\n",
    "    X_test = test_dataset.data\n",
    "    \n",
    "    csp = CSP(n_components=4, reg=None, log=True, norm_trace=False)\n",
    "    ss = preprocessing.StandardScaler()\n",
    "    \n",
    "    X_train_csp = ss.fit_transform(csp.fit_transform(X_train.squeeze(), y_train))\n",
    "    X_val_csp = ss.transform(csp.transform(X_val.squeeze()))\n",
    "    X_test_csp = ss.transform(csp.transform(X_test.squeeze()))\n",
    "    \n",
    "    clf = LinearDiscriminantAnalysis()\n",
    "    clf.fit(X_train_csp, y_train)\n",
    "    \n",
    "    y_pred = clf.predict(X_val_csp)\n",
    "    y_test_pred = clf.predict(X_test_csp)\n",
    "    #################################################\n",
    "    \n",
    "    acc.append(accuracy_score(y_val, y_pred))\n",
    "    test_preds.append(y_test_pred)\n",
    "    \n",
    "    print('='*30)\n",
    "    print(f'LOG >>> {target_subject} acc. : {acc[-1]:.4f}')\n",
    "    print('='*30)"
   ]
  },
  {
   "cell_type": "code",
   "execution_count": null,
   "id": "f0b6c4dc",
   "metadata": {},
   "outputs": [],
   "source": [
    "acc"
   ]
  },
  {
   "cell_type": "markdown",
   "id": "bd9bb815",
   "metadata": {},
   "source": [
    "# Submission"
   ]
  },
  {
   "cell_type": "code",
   "execution_count": null,
   "id": "a29141b7",
   "metadata": {},
   "outputs": [],
   "source": [
    "sample_submission = pd.DataFrame(test_preds).T\n",
    "sample_submission.to_csv('sample_submission.csv', index=False)\n",
    "sample_submission.head()"
   ]
  }
 ],
 "metadata": {
  "kernelspec": {
   "display_name": "Python 3 (ipykernel)",
   "language": "python",
   "name": "python3"
  },
  "language_info": {
   "codemirror_mode": {
    "name": "ipython",
    "version": 3
   },
   "file_extension": ".py",
   "mimetype": "text/x-python",
   "name": "python",
   "nbconvert_exporter": "python",
   "pygments_lexer": "ipython3",
   "version": "3.7.11"
  }
 },
 "nbformat": 4,
 "nbformat_minor": 5
}
